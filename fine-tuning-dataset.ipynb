{
 "cells": [
  {
   "cell_type": "code",
   "execution_count": null,
   "metadata": {},
   "outputs": [],
   "source": [
    "import os\n",
    "import csv\n",
    "import json\n",
    "from google.colab import drive"
   ]
  },
  {
   "cell_type": "code",
   "execution_count": null,
   "metadata": {},
   "outputs": [],
   "source": [
    "driveDirectory = '/content/gdrive/'\n",
    "drive.mount(driveDirectory)\n",
    "\n",
    "projectDirectory = os.path.join(driveDirectory, 'Shareddrives/ɹnoᖵoʍꓕǝǝɹɥꓕ/title_generator')\n",
    "outlineDirectory = os.path.join(projectDirectory, 'outline/ok/')\n",
    "datasetFilePath = os.path.join(projectDirectory, 'dataset.jsonl')"
   ]
  },
  {
   "cell_type": "code",
   "execution_count": null,
   "metadata": {},
   "outputs": [],
   "source": [
    "# 你是一位在 YouTube 平台上的影音創作者，你擅長撰寫吸引人的影片標題。\n",
    "system_content = input()\n",
    "if not system_content:\n",
    "    system_content = '你是一位在 YouTube 平台上的影音創作者，你擅長撰寫吸引人的影片標題。'"
   ]
  },
  {
   "cell_type": "code",
   "execution_count": null,
   "metadata": {},
   "outputs": [],
   "source": [
    "promptTypes = {\n",
    "    \"驚嘆\": \"驚嘆語句\",\n",
    "    \"疑問\": \"疑問語句\",\n",
    "    \"項目數\": \"影片中主要內容列表的項目數量\",\n",
    "    \"數據\": \"影片提到的重要數據\",\n",
    "    \"轉折\": \"轉折句\",\n",
    "}"
   ]
  },
  {
   "cell_type": "code",
   "execution_count": null,
   "metadata": {},
   "outputs": [],
   "source": [
    "!wget -q --show-progress https://raw.githubusercontent.com/lnfu/title-generator/main/training.csv training.csv\n",
    "videoDataInputPath = './training.csv'"
   ]
  },
  {
   "cell_type": "code",
   "execution_count": null,
   "metadata": {},
   "outputs": [],
   "source": [
    "with open(videoDataInputPath, \"r\", encoding=\"utf-8\") as videoDataFile:\n",
    "    videoData = list(csv.reader(videoDataFile))[1:]\n",
    "\n",
    "for channel, title, processedTitle, prompts, duration, videoId in videoData:\n",
    "    with open(os.path.join(outlineDirectory, videoId + \".txt\"), \"r\", encoding=\"utf-8\") as outlineFile:\n",
    "        outline = outlineFile.read()\n",
    "\n",
    "    prompt_str = \"標題內容需要包含\"\n",
    "    prompts = list(filter(None, prompts.split(\" \")))\n",
    "    for prompt in prompts:\n",
    "        prompt_str += promptTypes[prompt] + \"、\"\n",
    "    prompt_str = prompt_str[:-1] + \"。\"\n",
    "\n",
    "    data = {\n",
    "        \"messages\": [\n",
    "            {\n",
    "                \"role\": \"system\",\n",
    "                \"content\": system_content,\n",
    "            },\n",
    "            {\n",
    "                \"role\": \"user\",\n",
    "                \"content\": f\"#zh-tw 請根據我提供的影片內容摘要想一個吸睛的 YouTube 影片標題。{prompt_str}摘要：{outline}\",\n",
    "            },\n",
    "            {\"role\": \"assistant\", \"content\": f\"{processedTitle}\"},\n",
    "        ]\n",
    "    }\n",
    "\n",
    "    with open(datasetFilePath, 'a', encoding=\"utf-8\") as datasetFile:\n",
    "        json.dump(data, datasetFile, ensure_ascii=False, indent=None, separators=(\",\",\":\"))\n",
    "        \n",
    "    print(videoId)\n"
   ]
  }
 ],
 "metadata": {
  "language_info": {
   "name": "python"
  }
 },
 "nbformat": 4,
 "nbformat_minor": 2
}
