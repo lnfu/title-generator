{
 "cells": [
  {
   "cell_type": "code",
   "execution_count": null,
   "metadata": {},
   "outputs": [],
   "source": [
    "from google.colab import drive\n",
    "drive.mount('/content/gdrive/')\n",
    "!mkdir -p /content/gdrive/demo"
   ]
  },
  {
   "cell_type": "code",
   "execution_count": null,
   "metadata": {},
   "outputs": [],
   "source": [
    "!git clone https://github.com/lnfu/title-generator.git\n",
    "%cd title-generator\n",
    "%pip install -r requirements.txt"
   ]
  },
  {
   "cell_type": "code",
   "execution_count": null,
   "metadata": {},
   "outputs": [],
   "source": [
    "!echo 'API_KEY=<YOUR_API_KEY>' > .env\n",
    "!python preprocess.py demo/training.csv -o /content/gdrive/demo"
   ]
  },
  {
   "cell_type": "code",
   "execution_count": null,
   "metadata": {},
   "outputs": [],
   "source": [
    "!echo 'FINE_TUNED_MODEL_NAME=<YOUR_MODEL_NAME>' >> .env\n",
    "!python test.py demo/testing.csv -o /content/gdrive/demo"
   ]
  },
  {
   "cell_type": "code",
   "execution_count": null,
   "metadata": {},
   "outputs": [],
   "source": [
    "!python generate.py -n 3 -t 驚嘆,疑問 -o /content/gdrive/demo"
   ]
  }
 ],
 "metadata": {
  "language_info": {
   "name": "python"
  }
 },
 "nbformat": 4,
 "nbformat_minor": 2
}
