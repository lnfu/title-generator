{
 "cells": [
  {
   "cell_type": "code",
   "execution_count": 4,
   "id": "fae16784-0745-4ed0-8fe4-2696f756e065",
   "metadata": {},
   "outputs": [],
   "source": [
    "!pip install pytube > /dev/null"
   ]
  },
  {
   "cell_type": "code",
   "execution_count": 5,
   "id": "e41adf06-9b0b-4990-b5a1-c5374dc7d135",
   "metadata": {},
   "outputs": [
    {
     "ename": "ModuleNotFoundError",
     "evalue": "No module named 'google'",
     "output_type": "error",
     "traceback": [
      "\u001b[0;31m---------------------------------------------------------------------------\u001b[0m",
      "\u001b[0;31mModuleNotFoundError\u001b[0m                       Traceback (most recent call last)",
      "Cell \u001b[0;32mIn[5], line 5\u001b[0m\n\u001b[1;32m      3\u001b[0m \u001b[38;5;28;01mfrom\u001b[39;00m \u001b[38;5;21;01mpytube\u001b[39;00m \u001b[38;5;28;01mimport\u001b[39;00m YouTube\n\u001b[1;32m      4\u001b[0m \u001b[38;5;28;01mfrom\u001b[39;00m \u001b[38;5;21;01mpydub\u001b[39;00m \u001b[38;5;28;01mimport\u001b[39;00m AudioSegment\n\u001b[0;32m----> 5\u001b[0m \u001b[38;5;28;01mfrom\u001b[39;00m \u001b[38;5;21;01mgoogle\u001b[39;00m\u001b[38;5;21;01m.\u001b[39;00m\u001b[38;5;21;01mcolab\u001b[39;00m \u001b[38;5;28;01mimport\u001b[39;00m drive\n\u001b[1;32m      6\u001b[0m \u001b[38;5;28;01mimport\u001b[39;00m \u001b[38;5;21;01mspeech_recognition\u001b[39;00m \u001b[38;5;28;01mas\u001b[39;00m \u001b[38;5;21;01msr\u001b[39;00m\n",
      "\u001b[0;31mModuleNotFoundError\u001b[0m: No module named 'google'"
     ]
    }
   ],
   "source": [
    "import os\n",
    "import csv\n",
    "import torch\n",
    "from pytube import YouTube\n",
    "from google.colab import drive\n",
    "from transformers import pipeline, GenerationConfig"
   ]
  },
  {
   "cell_type": "markdown",
   "id": "e051b827",
   "metadata": {},
   "source": [
    "# 掛載 Google Drive"
   ]
  },
  {
   "cell_type": "code",
   "execution_count": null,
   "id": "a6ae02a2",
   "metadata": {},
   "outputs": [],
   "source": [
    "driveDirectory = '/content/gdrive/'\n",
    "drive.mount(driveDirectory)"
   ]
  },
  {
   "cell_type": "code",
   "execution_count": null,
   "id": "24923ae6",
   "metadata": {},
   "outputs": [],
   "source": [
    "projectDirectory = os.path.join(driveDirectory, 'Shareddrives/ɹnoᖵoʍꓕǝǝɹɥꓕ/title_generator')\n",
    "audioDirectory = os.path.join(projectDirectory, 'training_audio/')\n",
    "transcriptionDirectory = os.path.join(projectDirectory, 'training_transcription/') "
   ]
  },
  {
   "cell_type": "markdown",
   "id": "fe155322",
   "metadata": {},
   "source": [
    "# 下載 metadata"
   ]
  },
  {
   "cell_type": "code",
   "execution_count": null,
   "id": "4befe151-6b45-4cab-9dd9-727fd278a1bb",
   "metadata": {},
   "outputs": [],
   "source": [
    "!wget -q --show-progress https://raw.githubusercontent.com/lnfu/title-generator/main/training.csv training.csv\n",
    "videoDataInputPath = './training.csv'"
   ]
  },
  {
   "cell_type": "code",
   "execution_count": null,
   "id": "eaa49629-343e-41e2-b929-bcd631bc8d5e",
   "metadata": {},
   "outputs": [],
   "source": [
    "!mkdir -p /content/gdrive/Shareddrives/ɹnoᖵoʍꓕǝǝɹɥꓕ/title_generator/training_transcription\n",
    "!mkdir -p /content/gdrive/Shareddrives/ɹnoᖵoʍꓕǝǝɹɥꓕ/title_generator/training_audio"
   ]
  },
  {
   "cell_type": "markdown",
   "id": "e1518434",
   "metadata": {},
   "source": [
    "# 讀取 metadata"
   ]
  },
  {
   "cell_type": "code",
   "execution_count": null,
   "id": "154b8a56",
   "metadata": {},
   "outputs": [],
   "source": [
    "with open(videoDataInputPath, 'r', encoding='utf-8') as videoDataFile:\n",
    "    videoData = list(csv.reader(videoDataFile))[1:]"
   ]
  },
  {
   "cell_type": "markdown",
   "id": "ff64d4b3",
   "metadata": {},
   "source": [
    "# 下載音檔"
   ]
  },
  {
   "cell_type": "code",
   "execution_count": null,
   "id": "9f521231-5acf-4d94-a64b-ab74b8ca5849",
   "metadata": {},
   "outputs": [],
   "source": [
    "def downloadAudio(videoId, outputDirectory):\n",
    "    url = f'https://youtube.com/watch?v={videoId}'\n",
    "    audio = YouTube(url).streams.get_audio_only()\n",
    "    audioFilePath = audio.download(output_path=outputDirectory, filename=f'{videoId}.mp3')\n",
    "    return audioFilePath\n",
    "\n",
    "for channel, title, duration, videoId in videoData:\n",
    "    audioFilePath = downloadAudio(videoId, audioDirectory)\n",
    "    print(f'Audio output: {audioFilePath}')"
   ]
  },
  {
   "cell_type": "markdown",
   "id": "7ab3b5b7",
   "metadata": {},
   "source": [
    "# 語音辨識\n",
    "- 使用 Whisper small (zh-tw fine-tuning)"
   ]
  },
  {
   "cell_type": "code",
   "execution_count": null,
   "id": "16e2e6ad",
   "metadata": {},
   "outputs": [],
   "source": [
    "device = 'cuda' if torch.cuda.is_available() else 'cpu'\n",
    "transcriber = pipeline(\n",
    "    'automatic-speech-recognition', \n",
    "    model='Jingmiao/whisper-small-zh_tw', \n",
    "    device=device\n",
    ")\n",
    "transcriber.model.generation_config = GenerationConfig.from_pretrained('openai/whisper-small') "
   ]
  },
  {
   "cell_type": "code",
   "execution_count": null,
   "id": "87ba498e-612a-41c0-82a9-5c63a4d14e3c",
   "metadata": {},
   "outputs": [],
   "source": [
    "for channel, title, duration, videoId in videoData:\n",
    "\n",
    "    audioFilePath = os.path.join(audioDirectory, f'{videoId}.mp3') \n",
    "    transcriptionFilePath = os.path.join(transcriptionDirectory, f'{videoId}.txt')\n",
    "        \n",
    "    transcription = transcriber(audioFilePath, return_timestamps=True)\n",
    "\n",
    "    with open(transcriptionFilePath, 'w', encoding='utf-8') as transcriptionFile:\n",
    "        transcriptionFile.write(transcription)\n",
    "    \n",
    "    print(f'Transcription output: {transcriptionFilePath}')"
   ]
  }
 ],
 "metadata": {
  "kernelspec": {
   "display_name": "Python 3 (ipykernel)",
   "language": "python",
   "name": "python3"
  },
  "language_info": {
   "codemirror_mode": {
    "name": "ipython",
    "version": 3
   },
   "file_extension": ".py",
   "mimetype": "text/x-python",
   "name": "python",
   "nbconvert_exporter": "python",
   "pygments_lexer": "ipython3",
   "version": "3.10.13"
  }
 },
 "nbformat": 4,
 "nbformat_minor": 5
}
